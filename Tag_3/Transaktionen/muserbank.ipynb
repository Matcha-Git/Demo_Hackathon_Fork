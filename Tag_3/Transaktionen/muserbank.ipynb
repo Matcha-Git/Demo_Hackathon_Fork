{
    "metadata": {
        "kernelspec": {
            "name": "SQL",
            "display_name": "SQL",
            "language": "sql"
        },
        "language_info": {
            "name": "sql",
            "version": ""
        },
        "connection_name": ""
    },
    "nbformat_minor": 2,
    "nbformat": 4,
    "cells": [
        {
            "cell_type": "code",
            "source": [
                "CREATE DATABASE Musterbank;\r\n",
                "GO\r\n",
                "USE Musterbank;\r\n",
                "-- Einfache Konto-Tabelle erstellen\r\n",
                "CREATE TABLE Account (\r\n",
                "\tAccountID INT IDENTITY(1,1) NOT NULL,\r\n",
                "\tCustomerName NVARCHAR(200) NOT NULL,\r\n",
                "\tCurrency NCHAR(20) NOT NULL DEFAULT 'CHF',\r\n",
                "\tAccountBalance MONEY NOT NULL DEFAULT 0,\r\n",
                "    PRIMARY KEY (AccountID)\r\n",
                ");\r\n",
                "GO\r\n",
                "-- Paar Beispieldaten einfügen\r\n",
                "INSERT INTO Account (CustomerName, AccountBalance) VALUES \r\n",
                "('Max Mustermann', 1200), \r\n",
                "('Jane Doe', 1500);\r\n",
                "GO"
            ],
            "metadata": {
                "azdata_cell_guid": "680c4358-8eef-466b-aae1-4c9ed114d79a",
                "language": "sql"
            },
            "outputs": [
                {
                    "output_type": "display_data",
                    "data": {
                        "text/html": "Query was canceled by user"
                    },
                    "metadata": {}
                },
                {
                    "output_type": "display_data",
                    "data": {
                        "text/html": "Query was canceled by user"
                    },
                    "metadata": {}
                },
                {
                    "output_type": "display_data",
                    "data": {
                        "text/html": "Query was canceled by user"
                    },
                    "metadata": {}
                },
                {
                    "output_type": "display_data",
                    "data": {
                        "text/html": "Total execution time: 00:00:00.003"
                    },
                    "metadata": {}
                }
            ],
            "execution_count": 11
        },
        {
            "cell_type": "code",
            "source": [
                "USE Musterbank\r\n",
                "GO\r\n",
                "ALTER TABLE Account \r\n",
                "ADD CONSTRAINT CHK_Kontoueberziehung CHECK (AccountBalance >= 0);"
            ],
            "metadata": {
                "azdata_cell_guid": "b563327b-720e-423c-a885-4232b77eccaa",
                "language": "sql"
            },
            "outputs": [
                {
                    "output_type": "display_data",
                    "data": {
                        "text/html": "Commands completed successfully."
                    },
                    "metadata": {}
                },
                {
                    "output_type": "display_data",
                    "data": {
                        "text/html": "Commands completed successfully."
                    },
                    "metadata": {}
                },
                {
                    "output_type": "display_data",
                    "data": {
                        "text/html": "Total execution time: 00:00:00.016"
                    },
                    "metadata": {}
                }
            ],
            "execution_count": 2
        },
        {
            "cell_type": "code",
            "source": [
                "USE Musterbank\r\n",
                "GO\r\n",
                "UPDATE Account SET AccountBalance = AccountBalance - 500 WHERE AccountID = 1;\r\n",
                "UPDATE Account SET AccountBalance = AccountBalance + 500 WHERE AccountID = 2;"
            ],
            "metadata": {
                "azdata_cell_guid": "ab675c63-b1f6-4c92-ae92-a9d85ffa4b9f",
                "language": "sql"
            },
            "outputs": [
                {
                    "output_type": "display_data",
                    "data": {
                        "text/html": "Commands completed successfully."
                    },
                    "metadata": {}
                },
                {
                    "output_type": "display_data",
                    "data": {
                        "text/html": "(1 row affected)"
                    },
                    "metadata": {}
                },
                {
                    "output_type": "display_data",
                    "data": {
                        "text/html": "(1 row affected)"
                    },
                    "metadata": {}
                },
                {
                    "output_type": "display_data",
                    "data": {
                        "text/html": "Total execution time: 00:00:00.016"
                    },
                    "metadata": {}
                }
            ],
            "execution_count": 2
        },
        {
            "cell_type": "code",
            "source": [
                "BEGIN TRANSACTION;\r\n",
                "UPDATE Account SET AccountBalance = AccountBalance - 500 WHERE AccountID = 1;\r\n",
                "UPDATE Account SET AccountBalance = AccountBalance + 500 WHERE AccountID = 2;\r\n",
                "COMMIT TRANSACTION;\r\n",
                "-- Oder \r\n",
                ""
            ],
            "metadata": {
                "azdata_cell_guid": "8d438dd1-92c3-42e3-8fde-d0d19bf9fb96",
                "language": "sql"
            },
            "outputs": [
                {
                    "output_type": "display_data",
                    "data": {
                        "text/html": "(1 row affected)"
                    },
                    "metadata": {}
                },
                {
                    "output_type": "display_data",
                    "data": {
                        "text/html": "(1 row affected)"
                    },
                    "metadata": {}
                },
                {
                    "output_type": "display_data",
                    "data": {
                        "text/html": "(1 row affected)"
                    },
                    "metadata": {}
                },
                {
                    "output_type": "display_data",
                    "data": {
                        "text/html": "(1 row affected)"
                    },
                    "metadata": {}
                },
                {
                    "output_type": "display_data",
                    "data": {
                        "text/html": "Total execution time: 00:00:00.017"
                    },
                    "metadata": {}
                }
            ],
            "execution_count": 3
        },
        {
            "cell_type": "code",
            "source": [
                "BEGIN TRANSACTION;\r\n",
                "UPDATE Account SET AccountBalance = AccountBalance - 500 WHERE AccountID = 1;\r\n",
                "UPDATE Account SET AccountBalance = AccountBalance + 500 WHERE AccountID = 2;\r\n",
                "ROLLBACK TRANSACTION;"
            ],
            "metadata": {
                "azdata_cell_guid": "4eb79c16-03bf-4514-9a46-62b0af2bf189",
                "language": "sql"
            },
            "outputs": [
                {
                    "output_type": "display_data",
                    "data": {
                        "text/html": "(1 row affected)"
                    },
                    "metadata": {}
                },
                {
                    "output_type": "display_data",
                    "data": {
                        "text/html": "(1 row affected)"
                    },
                    "metadata": {}
                },
                {
                    "output_type": "display_data",
                    "data": {
                        "text/html": "Total execution time: 00:00:00.006"
                    },
                    "metadata": {}
                }
            ],
            "execution_count": 4
        },
        {
            "cell_type": "code",
            "source": [
                "BEGIN TRANSACTION\r\n",
                "\r\n",
                "BEGIN TRY\r\n",
                "    -- Überweise CHF 500.- von Konto 1 auf Konto 2:\r\n",
                "    UPDATE Account SET AccountBalance = AccountBalance - 500 WHERE AccountID = 1\r\n",
                "    UPDATE Account SET AccountBalance = AccountBalance + 500 WHERE AccountID = 2\r\n",
                "\r\n",
                "    -- Commit der Transaktion\r\n",
                "    COMMIT TRANSACTION\r\n",
                "\r\n",
                "    -- Erfolgsmeldung ausgeben\r\n",
                "    SELECT 'COMMITED: Transaktion von CHF 500 war erfolgreich!' AS Meldung\r\n",
                "END TRY\r\n",
                "\r\n",
                "BEGIN CATCH\r\n",
                "    -- Dieser Codeblock wird ausgeführt, sollte eine der Anweisungen fehlerhaft sein.\r\n",
                "    -- Rollback der Transaktion\r\n",
                "    ROLLBACK TRANSACTION\r\n",
                "    \r\n",
                "    -- Fehlermeldung ausgeben\r\n",
                "    SELECT 'ROLLBACK: Zu wenig Geld auf dem Konto!' AS Meldung\r\n",
                "END CATCH\r\n",
                "\r\n",
                "GO"
            ],
            "metadata": {
                "azdata_cell_guid": "d69b902a-36f1-4847-9ac0-32ecdea25274",
                "language": "sql"
            },
            "outputs": [
                {
                    "output_type": "display_data",
                    "data": {
                        "text/html": "(1 row affected)"
                    },
                    "metadata": {}
                },
                {
                    "output_type": "display_data",
                    "data": {
                        "text/html": "(1 row affected)"
                    },
                    "metadata": {}
                },
                {
                    "output_type": "display_data",
                    "data": {
                        "text/html": "(1 row affected)"
                    },
                    "metadata": {}
                },
                {
                    "output_type": "display_data",
                    "data": {
                        "text/html": "Total execution time: 00:00:00.012"
                    },
                    "metadata": {}
                },
                {
                    "output_type": "execute_result",
                    "metadata": {},
                    "execution_count": 4,
                    "data": {
                        "application/vnd.dataresource+json": {
                            "schema": {
                                "fields": [
                                    {
                                        "name": "Meldung"
                                    }
                                ]
                            },
                            "data": [
                                {
                                    "Meldung": "COMMITED: Transaktion von CHF 500 war erfolgreich!"
                                }
                            ]
                        },
                        "text/html": [
                            "<table>",
                            "<tr><th>Meldung</th></tr>",
                            "<tr><td>COMMITED: Transaktion von CHF 500 war erfolgreich!</td></tr>",
                            "</table>"
                        ]
                    }
                }
            ],
            "execution_count": 4
        },
        {
            "cell_type": "code",
            "source": [
                "SELECT CustomerName,AccountBalance FROM Account"
            ],
            "metadata": {
                "azdata_cell_guid": "4fe36529-dc00-4a66-bb56-0717957939ac",
                "language": "sql"
            },
            "outputs": [
{
    "output_type": "display_data",
    "data": {
        "text/html": "(2 rows affected)"
    },
    "metadata": {}
}, {
    "output_type": "display_data",
    "data": {
        "text/html": "Total execution time: 00:00:00.005"
    },
    "metadata": {}
}, {
    "output_type": "execute_result",
    "metadata": {},
    "execution_count": 6,
    "data": {
        "application/vnd.dataresource+json": {
            "schema": {
                "fields": [
                    {
                        "name": "CustomerName"
                    },
                    {
                        "name": "AccountBalance"
                    }
                ]
            },
            "data": [
                {
                    "CustomerName": "Max Mustermann",
                    "AccountBalance": "200,00"
                },
                {
                    "CustomerName": "Jane Doe",
                    "AccountBalance": "2500,00"
                }
            ]
        },
        "text/html": [
            "<table>",
            "<tr><th>CustomerName</th><th>AccountBalance</th></tr>",
            "<tr><td>Max Mustermann</td><td>200,00</td></tr>",
            "<tr><td>Jane Doe</td><td>2500,00</td></tr>",
            "</table>"
        ]
    }
}
],
            "execution_count": 6
        }
    ]
}