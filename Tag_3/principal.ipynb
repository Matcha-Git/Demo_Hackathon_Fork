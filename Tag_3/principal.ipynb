{
    "metadata": {
        "kernelspec": {
            "name": "SQL",
            "display_name": "SQL",
            "language": "sql"
        },
        "language_info": {
            "name": "sql",
            "version": ""
        },
        "connection_name": ""
    },
    "nbformat_minor": 2,
    "nbformat": 4,
    "cells": [
        {
            "cell_type": "code",
            "source": [
                "USE master;\r\n",
                "GO\r\n",
                "\r\n",
                "CREATE DATABASE demo;"
            ],
            "metadata": {
                "language": "sql",
                "azdata_cell_guid": "b82228c9-b437-4fe4-9608-70691d35a514"
            },
            "outputs": [
                {
                    "output_type": "display_data",
                    "data": {
                        "text/html": "Commands completed successfully."
                    },
                    "metadata": {}
                },
                {
                    "output_type": "display_data",
                    "data": {
                        "text/html": "Commands completed successfully."
                    },
                    "metadata": {}
                },
                {
                    "output_type": "display_data",
                    "data": {
                        "text/html": "Total execution time: 00:00:00.383"
                    },
                    "metadata": {}
                }
            ],
            "execution_count": 5
        },
        {
            "cell_type": "code",
            "source": [
                "-- SQL Server-Login erstellen\r\n",
                "USE master;\r\n",
                "CREATE LOGIN test\r\n",
                "WITH PASSWORD = 'passwort', CHECK_POLICY = OFF;\r\n",
                "\r\n",
                "-- Einem Login ein User zuordnen\r\n",
                "USE demo;\r\n",
                "CREATE USER test FOR LOGIN test;\r\n",
                ""
            ],
            "metadata": {
                "azdata_cell_guid": "0f4d078c-81ee-4440-929d-71b2eeac4532",
                "language": "sql"
            },
            "outputs": [
                {
                    "output_type": "display_data",
                    "data": {
                        "text/html": "Commands completed successfully."
                    },
                    "metadata": {}
                },
                {
                    "output_type": "display_data",
                    "data": {
                        "text/html": "Total execution time: 00:00:00.115"
                    },
                    "metadata": {}
                }
            ],
            "execution_count": 6
        },
        {
            "cell_type": "code",
            "source": [
                "-- Server Login löschen\r\n",
                "DROP LOGIN test;\r\n",
                "\r\n",
                "-- Datenbank User löschen\r\n",
                "DROP USER test;\r\n",
                ""
            ],
            "metadata": {
                "azdata_cell_guid": "3c13c86f-5db5-44de-99b6-b1cd5eaed94a",
                "language": "sql"
            },
            "outputs": [
{
    "output_type": "display_data",
    "data": {
        "text/html": "Commands completed successfully."
    },
    "metadata": {}
}, {
    "output_type": "display_data",
    "data": {
        "text/html": "Total execution time: 00:00:00.082"
    },
    "metadata": {}
}
],
            "execution_count": 8
        }
    ]
}