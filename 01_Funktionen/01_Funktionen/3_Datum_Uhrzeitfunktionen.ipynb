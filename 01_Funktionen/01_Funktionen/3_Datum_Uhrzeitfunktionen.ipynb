{
    "metadata": {
        "kernelspec": {
            "name": "SQL",
            "display_name": "SQL",
            "language": "sql"
        },
        "language_info": {
            "name": "sql",
            "version": ""
        }
    },
    "nbformat_minor": 2,
    "nbformat": 4,
    "cells": [
        {
            "cell_type": "markdown",
            "source": [
                "# Datums- und Uhrzeitfunktionen"
            ],
            "metadata": {
                "azdata_cell_guid": "6b88b5bb-12f6-47d5-907b-f2dd51af33e7"
            },
            "attachments": {}
        },
        {
            "cell_type": "code",
            "source": [
                "-- DATEADD(): Fügt eine bestimmte Zeitspanne zu einem Datum hinzu\r\n",
                "-- SET LANGUAGE English;\r\n",
                "SELECT DATEADD(DAY, 10, '2025-01-15') AS '10 Tage später';"
            ],
            "metadata": {
                "azdata_cell_guid": "57e246b9-bc3f-4f48-919a-38808c2c60f2",
                "language": "sql"
            },
            "outputs": [
                {
                    "output_type": "display_data",
                    "data": {
                        "text/html": "(1 row affected)"
                    },
                    "metadata": {}
                },
                {
                    "output_type": "display_data",
                    "data": {
                        "text/html": "Total execution time: 00:00:00.010"
                    },
                    "metadata": {}
                },
                {
                    "output_type": "execute_result",
                    "metadata": {},
                    "execution_count": 2,
                    "data": {
                        "application/vnd.dataresource+json": {
                            "schema": {
                                "fields": [
                                    {
                                        "name": "10 Tage später"
                                    }
                                ]
                            },
                            "data": [
                                {
                                    "10 Tage später": "2025-11-15 00:00:00.000"
                                }
                            ]
                        },
                        "text/html": [
                            "<table>",
                            "<tr><th>10 Tage später</th></tr>",
                            "<tr><td>2025-11-15 00:00:00.000</td></tr>",
                            "</table>"
                        ]
                    }
                }
            ],
            "execution_count": 2
        },
        {
            "cell_type": "code",
            "source": [
                "-- DATEDIFF(): Berechnet die Differenz zwischen zwei Datumswerten (rundet immer ab)\r\n",
                "SELECT \r\n",
                "    DATEDIFF(MILLISECOND, '2024-01-01', '2024-01-15') AS 'Differenz in Millisekunden',\r\n",
                "    DATEDIFF(SECOND, '2024-01-01', '2025-01-15') AS 'Differenz in Sekunden',\r\n",
                "    DATEDIFF(DAY, '2024-01-01', '2025-01-15') AS 'Differenz in Tagen',\r\n",
                "    DATEDIFF(WEEK, '2024-01-01', '2025-01-15') AS 'Differenz in Wochen',\r\n",
                "    DATEDIFF(MONTH, '2024-01-01', '2025-01-15') AS 'Differenz in Monaten',\r\n",
                "    DATEDIFF(YEAR, '2024-01-01', '2025-01-15') AS 'Differenz in Jahren';"
            ],
            "metadata": {
                "azdata_cell_guid": "e30e5790-6952-43fb-b330-1071d232c49e",
                "language": "sql"
            },
            "outputs": [
                {
                    "output_type": "display_data",
                    "data": {
                        "text/html": "(1 row affected)"
                    },
                    "metadata": {}
                },
                {
                    "output_type": "display_data",
                    "data": {
                        "text/html": "Total execution time: 00:00:00.023"
                    },
                    "metadata": {}
                },
                {
                    "output_type": "execute_result",
                    "metadata": {},
                    "execution_count": 3,
                    "data": {
                        "application/vnd.dataresource+json": {
                            "schema": {
                                "fields": [
                                    {
                                        "name": "Differenz in Millisekunden"
                                    },
                                    {
                                        "name": "Differenz in Sekunden"
                                    },
                                    {
                                        "name": "Differenz in Tagen"
                                    },
                                    {
                                        "name": "Differenz in Wochen"
                                    },
                                    {
                                        "name": "Differenz in Monaten"
                                    },
                                    {
                                        "name": "Differenz in Jahren"
                                    }
                                ]
                            },
                            "data": [
                                {
                                    "Differenz in Millisekunden": "1209600000",
                                    "Differenz in Sekunden": "32832000",
                                    "Differenz in Tagen": "380",
                                    "Differenz in Wochen": "54",
                                    "Differenz in Monaten": "12",
                                    "Differenz in Jahren": "1"
                                }
                            ]
                        },
                        "text/html": [
                            "<table>",
                            "<tr><th>Differenz in Millisekunden</th><th>Differenz in Sekunden</th><th>Differenz in Tagen</th><th>Differenz in Wochen</th><th>Differenz in Monaten</th><th>Differenz in Jahren</th></tr>",
                            "<tr><td>1209600000</td><td>32832000</td><td>380</td><td>54</td><td>12</td><td>1</td></tr>",
                            "</table>"
                        ]
                    }
                }
            ],
            "execution_count": 3
        },
        {
            "cell_type": "code",
            "source": [
                "-- DATENAME(): Gibt den Namen eines bestimmten Teils eines Datums zurück\r\n",
                "SELECT \r\n",
                "    DATENAME(MONTH, '2025-01-15') AS 'Monat',\r\n",
                "    DATENAME(DAY, '2025-01-15') AS 'Tag',\r\n",
                "    DATENAME(YEAR, '2025-01-15') AS 'Jahr';"
            ],
            "metadata": {
                "language": "sql",
                "azdata_cell_guid": "1b599325-d217-4690-834c-79deef35d2a2"
            },
            "outputs": [
                {
                    "output_type": "display_data",
                    "data": {
                        "text/html": "(1 row affected)"
                    },
                    "metadata": {}
                },
                {
                    "output_type": "display_data",
                    "data": {
                        "text/html": "Total execution time: 00:00:00.015"
                    },
                    "metadata": {}
                },
                {
                    "output_type": "execute_result",
                    "metadata": {},
                    "execution_count": 4,
                    "data": {
                        "application/vnd.dataresource+json": {
                            "schema": {
                                "fields": [
                                    {
                                        "name": "Monat"
                                    },
                                    {
                                        "name": "Tag"
                                    },
                                    {
                                        "name": "Jahr"
                                    }
                                ]
                            },
                            "data": [
                                {
                                    "Monat": "January",
                                    "Tag": "15",
                                    "Jahr": "2025"
                                }
                            ]
                        },
                        "text/html": [
                            "<table>",
                            "<tr><th>Monat</th><th>Tag</th><th>Jahr</th></tr>",
                            "<tr><td>January</td><td>15</td><td>2025</td></tr>",
                            "</table>"
                        ]
                    }
                }
            ],
            "execution_count": 4
        },
        {
            "cell_type": "code",
            "source": [
                "-- DAY(), MONTH(), YEAR(): Extrahiert den Tag, Monat oder das Jahr aus einem Datum\r\n",
                "SELECT \r\n",
                "    DAY('2025-01-15') AS 'Tag',\r\n",
                "    MONTH('2025-01-15') AS 'Monat',\r\n",
                "    YEAR('2025-01-15') AS 'Jahr';"
            ],
            "metadata": {
                "language": "sql",
                "azdata_cell_guid": "a464c2ce-34e0-46e5-980f-8370c3af7d45"
            },
            "outputs": [
                {
                    "output_type": "display_data",
                    "data": {
                        "text/html": "(1 row affected)"
                    },
                    "metadata": {}
                },
                {
                    "output_type": "display_data",
                    "data": {
                        "text/html": "Total execution time: 00:00:00.012"
                    },
                    "metadata": {}
                },
                {
                    "output_type": "execute_result",
                    "metadata": {},
                    "execution_count": 5,
                    "data": {
                        "application/vnd.dataresource+json": {
                            "schema": {
                                "fields": [
                                    {
                                        "name": "Tag"
                                    },
                                    {
                                        "name": "Monat"
                                    },
                                    {
                                        "name": "Jahr"
                                    }
                                ]
                            },
                            "data": [
                                {
                                    "Tag": "15",
                                    "Monat": "1",
                                    "Jahr": "2025"
                                }
                            ]
                        },
                        "text/html": [
                            "<table>",
                            "<tr><th>Tag</th><th>Monat</th><th>Jahr</th></tr>",
                            "<tr><td>15</td><td>1</td><td>2025</td></tr>",
                            "</table>"
                        ]
                    }
                }
            ],
            "execution_count": 5
        },
        {
            "cell_type": "markdown",
            "source": [
                "<mark>Wichtig:</mark>"
            ],
            "metadata": {
                "language": "sql",
                "azdata_cell_guid": "a50bae67-5c29-420d-b920-a341fb464fd3"
            },
            "attachments": {}
        },
        {
            "cell_type": "code",
            "source": [
                "-- GETDATE: Gibt das aktuelle Datum und die aktuelle Uhrzeit zurück (lokale Zeitzone)\r\n",
                "SELECT GETDATE() AS 'Aktuelles Datum und Uhrzeit';"
            ],
            "metadata": {
                "language": "sql",
                "azdata_cell_guid": "5623b020-2e15-4059-9a67-33c1e76a6a1e"
            },
            "outputs": [
                {
                    "output_type": "display_data",
                    "data": {
                        "text/html": "(1 row affected)"
                    },
                    "metadata": {}
                },
                {
                    "output_type": "display_data",
                    "data": {
                        "text/html": "Total execution time: 00:00:00.014"
                    },
                    "metadata": {}
                },
                {
                    "output_type": "execute_result",
                    "metadata": {},
                    "execution_count": 6,
                    "data": {
                        "application/vnd.dataresource+json": {
                            "schema": {
                                "fields": [
                                    {
                                        "name": "Aktuelles Datum und Uhrzeit"
                                    }
                                ]
                            },
                            "data": [
                                {
                                    "Aktuelles Datum und Uhrzeit": "2025-01-15 09:39:22.867"
                                }
                            ]
                        },
                        "text/html": [
                            "<table>",
                            "<tr><th>Aktuelles Datum und Uhrzeit</th></tr>",
                            "<tr><td>2025-01-15 09:39:22.867</td></tr>",
                            "</table>"
                        ]
                    }
                }
            ],
            "execution_count": 6
        },
        {
            "cell_type": "code",
            "source": [
                "-- GETUTCDATE: Gibt das aktuelle Datum und die Uhrzeit in der UTC-Zeitzone zurück\r\n",
                "-- Hinweis: UTC = universal time coordinated \r\n",
                "SELECT GETUTCDATE() AS 'UTC Datum und Uhrzeit';"
            ],
            "metadata": {
                "language": "sql",
                "azdata_cell_guid": "867169f3-0228-4c73-b9dc-0744e3badfe1",
                "tags": []
            },
            "outputs": [
                {
                    "output_type": "display_data",
                    "data": {
                        "text/html": "(1 row affected)"
                    },
                    "metadata": {}
                },
                {
                    "output_type": "display_data",
                    "data": {
                        "text/html": "Total execution time: 00:00:00.014"
                    },
                    "metadata": {}
                },
                {
                    "output_type": "execute_result",
                    "metadata": {},
                    "execution_count": 7,
                    "data": {
                        "application/vnd.dataresource+json": {
                            "schema": {
                                "fields": [
                                    {
                                        "name": "UTC Datum und Uhrzeit"
                                    }
                                ]
                            },
                            "data": [
                                {
                                    "UTC Datum und Uhrzeit": "2025-01-15 08:40:33.373"
                                }
                            ]
                        },
                        "text/html": [
                            "<table>",
                            "<tr><th>UTC Datum und Uhrzeit</th></tr>",
                            "<tr><td>2025-01-15 08:40:33.373</td></tr>",
                            "</table>"
                        ]
                    }
                }
            ],
            "execution_count": 7
        },
        {
            "cell_type": "code",
            "source": [
                "-- SYSDATETIME: Gibt das aktuelle Datum und die Uhrzeit mit Nanosekunden-Genauigkeit zurück\r\n",
                "SELECT SYSDATETIME() AS 'Hohe Präzision Zeit';"
            ],
            "metadata": {
                "language": "sql",
                "azdata_cell_guid": "4cdf5fc9-bdb2-42b6-a167-10a82d7164d7"
            },
            "outputs": [
{
    "output_type": "display_data",
    "data": {
        "text/html": "(1 row affected)"
    },
    "metadata": {}
}, {
    "output_type": "display_data",
    "data": {
        "text/html": "Total execution time: 00:00:00.014"
    },
    "metadata": {}
}, {
    "output_type": "execute_result",
    "metadata": {},
    "execution_count": 8,
    "data": {
        "application/vnd.dataresource+json": {
            "schema": {
                "fields": [
                    {
                        "name": "Hohe Präzision Zeit"
                    }
                ]
            },
            "data": [
                {
                    "Hohe Präzision Zeit": "2025-01-15 09:41:05.9233038"
                }
            ]
        },
        "text/html": [
            "<table>",
            "<tr><th>Hohe Präzision Zeit</th></tr>",
            "<tr><td>2025-01-15 09:41:05.9233038</td></tr>",
            "</table>"
        ]
    }
}
],
            "execution_count": 8
        }
    ]
}