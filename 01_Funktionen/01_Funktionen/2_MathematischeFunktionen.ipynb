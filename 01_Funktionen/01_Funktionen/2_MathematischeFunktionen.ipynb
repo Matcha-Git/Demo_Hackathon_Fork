{
    "metadata": {
        "kernelspec": {
            "name": "SQL",
            "display_name": "SQL",
            "language": "sql"
        },
        "language_info": {
            "name": "sql",
            "version": ""
        }
    },
    "nbformat_minor": 2,
    "nbformat": 4,
    "cells": [
        {
            "cell_type": "markdown",
            "source": [
                "# Mathematische Funktionen"
            ],
            "metadata": {
                "language": "sql",
                "azdata_cell_guid": "7fa5690f-c89b-4d9d-b584-292dcf4bf69b"
            },
            "attachments": {}
        },
        {
            "cell_type": "code",
            "source": [
                "-- ROUND(expression, precision): Rundet Zahl kaufmännisch\r\n",
                "SELECT \r\n",
                "    ROUND(1.1234, 2) AS 'auf 2 Kommastellen',\r\n",
                "    ROUND(1.1256, 2) AS 'auf 2 Kommastellen', \r\n",
                "    ROUND(1.1234, 0) AS 'auf Ganzzahl',\r\n",
                "    ROUND(1.1234, -1) AS 'auf nächste 10er-Stelle';"
            ],
            "metadata": {
                "azdata_cell_guid": "3f8dff4f-949b-43ac-b5d3-168a416345d8",
                "language": "sql",
                "tags": []
            },
            "outputs": [
                {
                    "output_type": "display_data",
                    "data": {
                        "text/html": "(1 row affected)"
                    },
                    "metadata": {}
                },
                {
                    "output_type": "display_data",
                    "data": {
                        "text/html": "Total execution time: 00:00:00.010"
                    },
                    "metadata": {}
                },
                {
                    "output_type": "execute_result",
                    "metadata": {},
                    "execution_count": 1,
                    "data": {
                        "application/vnd.dataresource+json": {
                            "schema": {
                                "fields": [
                                    {
                                        "name": "auf 2 Kommastellen"
                                    },
                                    {
                                        "name": "auf 2 Kommastellen"
                                    },
                                    {
                                        "name": "auf Ganzzahl"
                                    },
                                    {
                                        "name": "auf nächste 10er-Stelle"
                                    }
                                ]
                            },
                            "data": [
                                {
                                    "auf 2 Kommastellen": "1.1300",
                                    "auf Ganzzahl": "1.0000",
                                    "auf nächste 10er-Stelle": "0.0000"
                                }
                            ]
                        },
                        "text/html": [
                            "<table>",
                            "<tr><th>auf 2 Kommastellen</th><th>auf 2 Kommastellen</th><th>auf Ganzzahl</th><th>auf nächste 10er-Stelle</th></tr>",
                            "<tr><td>1.1200</td><td>1.1300</td><td>1.0000</td><td>0.0000</td></tr>",
                            "</table>"
                        ]
                    }
                }
            ],
            "execution_count": 1
        },
        {
            "cell_type": "code",
            "source": [
                "-- FLOOR(): auf nächstgelegene Ganzzahl abrunden\r\n",
                "\r\n",
                "SELECT FLOOR(1.9999) AS 'Nächst kleinere Ganzzahl';"
            ],
            "metadata": {
                "azdata_cell_guid": "b4b42d1d-380b-4c58-ba49-62e339002367",
                "language": "sql"
            },
            "outputs": [
                {
                    "output_type": "display_data",
                    "data": {
                        "text/html": "(1 row affected)"
                    },
                    "metadata": {}
                },
                {
                    "output_type": "display_data",
                    "data": {
                        "text/html": "Total execution time: 00:00:00.010"
                    },
                    "metadata": {}
                },
                {
                    "output_type": "execute_result",
                    "metadata": {},
                    "execution_count": 2,
                    "data": {
                        "application/vnd.dataresource+json": {
                            "schema": {
                                "fields": [
                                    {
                                        "name": "Nächst kleinere Ganzzahl"
                                    }
                                ]
                            },
                            "data": [
                                {
                                    "Nächst kleinere Ganzzahl": "1"
                                }
                            ]
                        },
                        "text/html": [
                            "<table>",
                            "<tr><th>Nächst kleinere Ganzzahl</th></tr>",
                            "<tr><td>1</td></tr>",
                            "</table>"
                        ]
                    }
                }
            ],
            "execution_count": 2
        },
        {
            "cell_type": "code",
            "source": [
                "-- ABS(): absoluter Wert => Abstand zu 0\r\n",
                "SELECT \r\n",
                "    ABS(10) AS 'ABS von positiver Zahl',\r\n",
                "    ABS(-10) AS 'ABS von negativer Zahl'"
            ],
            "metadata": {
                "azdata_cell_guid": "68bc769a-2464-43f0-b1a2-ba0d8078cc1b",
                "language": "sql"
            },
            "outputs": [
                {
                    "output_type": "display_data",
                    "data": {
                        "text/html": "(1 row affected)"
                    },
                    "metadata": {}
                },
                {
                    "output_type": "display_data",
                    "data": {
                        "text/html": "Total execution time: 00:00:00.015"
                    },
                    "metadata": {}
                },
                {
                    "output_type": "execute_result",
                    "metadata": {},
                    "execution_count": 3,
                    "data": {
                        "application/vnd.dataresource+json": {
                            "schema": {
                                "fields": [
                                    {
                                        "name": "ABS von positiver Zahl"
                                    },
                                    {
                                        "name": "ABS von negativer Zahl"
                                    }
                                ]
                            },
                            "data": [
                                {
                                    "ABS von positiver Zahl": "10",
                                    "ABS von negativer Zahl": "10"
                                }
                            ]
                        },
                        "text/html": [
                            "<table>",
                            "<tr><th>ABS von positiver Zahl</th><th>ABS von negativer Zahl</th></tr>",
                            "<tr><td>10</td><td>10</td></tr>",
                            "</table>"
                        ]
                    }
                }
            ],
            "execution_count": 3
        },
        {
            "cell_type": "code",
            "source": [
                "-- RAND(): Zufällige Zahl (aber deterministisch)\r\n",
                "SELECT \r\n",
                "    RAND(), -- Ohne Seed: Zahl zwischen 0.0 (inklusiv) und 1.0 (exklusiv)\r\n",
                "    RAND(), -- ergibt andere Zahl als oben\r\n",
                "    RAND(12345), -- Mit Seed: solange gleicher Seed = gleiche Zufallszahl\r\n",
                "    RAND(12345); -- ergibt gleiche Zahl wie oben\r\n",
                "\r\n",
                "-- RAND ist nicht sicher. Nicht für kryptographische Zwecke verwenden. Hierfür:\r\n",
                "SELECT\r\n",
                "    NEWID(),\r\n",
                "    NEWID();"
            ],
            "metadata": {
                "language": "sql",
                "azdata_cell_guid": "b0f71caa-833f-4356-8e3a-e559e3abc4dc"
            },
            "outputs": [
                {
                    "output_type": "display_data",
                    "data": {
                        "text/html": "(1 row affected)"
                    },
                    "metadata": {}
                },
                {
                    "output_type": "display_data",
                    "data": {
                        "text/html": "(1 row affected)"
                    },
                    "metadata": {}
                },
                {
                    "output_type": "display_data",
                    "data": {
                        "text/html": "Total execution time: 00:00:00.019"
                    },
                    "metadata": {}
                },
                {
                    "output_type": "execute_result",
                    "metadata": {},
                    "execution_count": 5,
                    "data": {
                        "application/vnd.dataresource+json": {
                            "schema": {
                                "fields": [
                                    {
                                        "name": "(No column name)"
                                    },
                                    {
                                        "name": "(No column name)"
                                    },
                                    {
                                        "name": "(No column name)"
                                    },
                                    {
                                        "name": "(No column name)"
                                    }
                                ]
                            },
                            "data": [
                                {
                                    "(No column name)": "0.9435973904241444"
                                }
                            ]
                        },
                        "text/html": [
                            "<table>",
                            "<tr><th>(No column name)</th><th>(No column name)</th><th>(No column name)</th><th>(No column name)</th></tr>",
                            "<tr><td>0.9083188493579499</td><td>0.1466878273459326</td><td>0.9435973904241444</td><td>0.9435973904241444</td></tr>",
                            "</table>"
                        ]
                    }
                },
                {
                    "output_type": "execute_result",
                    "metadata": {},
                    "execution_count": 5,
                    "data": {
                        "application/vnd.dataresource+json": {
                            "schema": {
                                "fields": [
                                    {
                                        "name": "(No column name)"
                                    },
                                    {
                                        "name": "(No column name)"
                                    }
                                ]
                            },
                            "data": [
                                {
                                    "(No column name)": "aec50bce-75fc-49d1-83c3-2278e0ac1bb5"
                                }
                            ]
                        },
                        "text/html": [
                            "<table>",
                            "<tr><th>(No column name)</th><th>(No column name)</th></tr>",
                            "<tr><td>1b3e0922-1dc5-4df6-9486-c2397bb0ff11</td><td>aec50bce-75fc-49d1-83c3-2278e0ac1bb5</td></tr>",
                            "</table>"
                        ]
                    }
                }
            ],
            "execution_count": 5
        },
        {
            "cell_type": "code",
            "source": [
                "-- PI(): Liefer Zahl PI\r\n",
                "SELECT PI() AS PI;"
            ],
            "metadata": {
                "language": "sql",
                "azdata_cell_guid": "cab820e3-6584-48d6-8b84-2080627f7fe2"
            },
            "outputs": [
                {
                    "output_type": "display_data",
                    "data": {
                        "text/html": "(1 row affected)"
                    },
                    "metadata": {}
                },
                {
                    "output_type": "display_data",
                    "data": {
                        "text/html": "Total execution time: 00:00:00.010"
                    },
                    "metadata": {}
                },
                {
                    "output_type": "execute_result",
                    "metadata": {},
                    "execution_count": 6,
                    "data": {
                        "application/vnd.dataresource+json": {
                            "schema": {
                                "fields": [
                                    {
                                        "name": "PI"
                                    }
                                ]
                            },
                            "data": [
                                {
                                    "PI": "3.141592653589793"
                                }
                            ]
                        },
                        "text/html": [
                            "<table>",
                            "<tr><th>PI</th></tr>",
                            "<tr><td>3.141592653589793</td></tr>",
                            "</table>"
                        ]
                    }
                }
            ],
            "execution_count": 6
        },
        {
            "cell_type": "code",
            "source": [
                "-- POWER(expression, power): Hochrechnen\r\n",
                "SELECT POWER(2,8) 'Möglichkeiten in einem B...';"
            ],
            "metadata": {
                "language": "sql",
                "azdata_cell_guid": "32f070ca-ad8d-4e8f-a74d-9f33a0c072d9"
            },
            "outputs": [
                {
                    "output_type": "display_data",
                    "data": {
                        "text/html": "(1 row affected)"
                    },
                    "metadata": {}
                },
                {
                    "output_type": "display_data",
                    "data": {
                        "text/html": "Total execution time: 00:00:00.003"
                    },
                    "metadata": {}
                },
                {
                    "output_type": "execute_result",
                    "metadata": {},
                    "execution_count": 7,
                    "data": {
                        "application/vnd.dataresource+json": {
                            "schema": {
                                "fields": [
                                    {
                                        "name": "Möglichkeiten in einem B..."
                                    }
                                ]
                            },
                            "data": [
                                {
                                    "Möglichkeiten in einem B...": "256"
                                }
                            ]
                        },
                        "text/html": [
                            "<table>",
                            "<tr><th>Möglichkeiten in einem B...</th></tr>",
                            "<tr><td>256</td></tr>",
                            "</table>"
                        ]
                    }
                }
            ],
            "execution_count": 7
        },
        {
            "cell_type": "code",
            "source": [
                "-- SQUARE(): Quadratzahl (x^2)\r\n",
                "SELECT\r\n",
                "    SQUARE(2) '2^2',\r\n",
                "    SQUARE(3) '3^2',\r\n",
                "    SQUARE(4) '4^2';"
            ],
            "metadata": {
                "language": "sql",
                "azdata_cell_guid": "a7bcd518-b494-4333-928d-b6e82d1c2ed3"
            },
            "outputs": [
                {
                    "output_type": "display_data",
                    "data": {
                        "text/html": "(1 row affected)"
                    },
                    "metadata": {}
                },
                {
                    "output_type": "display_data",
                    "data": {
                        "text/html": "Total execution time: 00:00:00.012"
                    },
                    "metadata": {}
                },
                {
                    "output_type": "execute_result",
                    "metadata": {},
                    "execution_count": 8,
                    "data": {
                        "application/vnd.dataresource+json": {
                            "schema": {
                                "fields": [
                                    {
                                        "name": "2^2"
                                    },
                                    {
                                        "name": "3^2"
                                    },
                                    {
                                        "name": "4^2"
                                    }
                                ]
                            },
                            "data": [
                                {
                                    "2^2": "4",
                                    "3^2": "9",
                                    "4^2": "16"
                                }
                            ]
                        },
                        "text/html": [
                            "<table>",
                            "<tr><th>2^2</th><th>3^2</th><th>4^2</th></tr>",
                            "<tr><td>4</td><td>9</td><td>16</td></tr>",
                            "</table>"
                        ]
                    }
                }
            ],
            "execution_count": 8
        },
        {
            "cell_type": "code",
            "source": [
                "--SQRT(): Square Root = Quadratwurzel\r\n",
                "SELECT\r\n",
                "    SQRT(2) 'Quadratwurzel von 2',\r\n",
                "    SQRT(4) 'Quadratwurzel von 4',\r\n",
                "    SQRT(9) 'Quadratwurzel von 9';"
            ],
            "metadata": {
                "language": "sql",
                "azdata_cell_guid": "0d2ba8c5-1487-4682-a0b1-1e9fa965a49d"
            },
            "outputs": [
{
    "output_type": "display_data",
    "data": {
        "text/html": "(1 row affected)"
    },
    "metadata": {}
}, {
    "output_type": "display_data",
    "data": {
        "text/html": "Total execution time: 00:00:00.012"
    },
    "metadata": {}
}, {
    "output_type": "execute_result",
    "metadata": {},
    "execution_count": 9,
    "data": {
        "application/vnd.dataresource+json": {
            "schema": {
                "fields": [
                    {
                        "name": "Quadratwurzel von 2"
                    },
                    {
                        "name": "Quadratwurzel von 4"
                    },
                    {
                        "name": "Quadratwurzel von 9"
                    }
                ]
            },
            "data": [
                {
                    "Quadratwurzel von 2": "1.4142135623730951",
                    "Quadratwurzel von 4": "2",
                    "Quadratwurzel von 9": "3"
                }
            ]
        },
        "text/html": [
            "<table>",
            "<tr><th>Quadratwurzel von 2</th><th>Quadratwurzel von 4</th><th>Quadratwurzel von 9</th></tr>",
            "<tr><td>1.4142135623730951</td><td>2</td><td>3</td></tr>",
            "</table>"
        ]
    }
}
],
            "execution_count": 9
        }
    ]
}