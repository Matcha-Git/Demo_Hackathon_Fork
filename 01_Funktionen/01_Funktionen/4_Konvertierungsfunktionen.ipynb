{
    "metadata": {
        "kernelspec": {
            "name": "SQL",
            "display_name": "SQL",
            "language": "sql"
        },
        "language_info": {
            "name": "sql",
            "version": ""
        }
    },
    "nbformat_minor": 2,
    "nbformat": 4,
    "cells": [
        {
            "cell_type": "markdown",
            "source": [
                "# Konvertierungsfunktionen"
            ],
            "metadata": {
                "azdata_cell_guid": "dc4389ca-74ee-4d05-89e2-12bdbadbae73"
            },
            "attachments": {}
        },
        {
            "cell_type": "code",
            "source": [
                "-- CONVERT(): Beispiel von Konvertierung eines Datums in eine Zeichenkette \r\n",
                "SELECT \r\n",
                "    CONVERT(VARCHAR, GETDATE(), 120) AS 'Datum im ISO-Format', --(YYYY-MM-DD HH:MM:SS)\r\n",
                "    CONVERT(VARCHAR, GETDATE(), 104) AS 'Datum im Format DD.MM.YYYY',\r\n",
                "    CONVERT(VARCHAR, GETDATE(), 4) AS 'Datum im Format DD.MM.YY';\r\n",
                ""
            ],
            "metadata": {
                "azdata_cell_guid": "e82cede3-9d71-4375-9579-1b3cc3e94ccd",
                "language": "sql",
                "tags": []
            },
            "outputs": [
                {
                    "output_type": "display_data",
                    "data": {
                        "text/html": "(1 row affected)"
                    },
                    "metadata": {}
                },
                {
                    "output_type": "display_data",
                    "data": {
                        "text/html": "Total execution time: 00:00:00.013"
                    },
                    "metadata": {}
                },
                {
                    "output_type": "execute_result",
                    "metadata": {},
                    "execution_count": 1,
                    "data": {
                        "application/vnd.dataresource+json": {
                            "schema": {
                                "fields": [
                                    {
                                        "name": "Datum im ISO-Format"
                                    },
                                    {
                                        "name": "Datum im Format DD.MM.YYYY"
                                    },
                                    {
                                        "name": "Datum im Format DD.MM.YY"
                                    }
                                ]
                            },
                            "data": [
                                {
                                    "Datum im ISO-Format": "2025-01-15 09:42:36",
                                    "Datum im Format DD.MM.YYYY": "15.01.2025",
                                    "Datum im Format DD.MM.YY": "15.01.25"
                                }
                            ]
                        },
                        "text/html": [
                            "<table>",
                            "<tr><th>Datum im ISO-Format</th><th>Datum im Format DD.MM.YYYY</th><th>Datum im Format DD.MM.YY</th></tr>",
                            "<tr><td>2025-01-15 09:42:36</td><td>15.01.2025</td><td>15.01.25</td></tr>",
                            "</table>"
                        ]
                    }
                }
            ],
            "execution_count": 1
        },
        {
            "cell_type": "code",
            "source": [
                "-- CAST(): Konvertierung zu gewünschtem Datentyp\r\n",
                "\r\n",
                "SELECT \r\n",
                "    CAST('20250114' AS date) 'Datum',\r\n",
                "    CAST('20250114' AS datetime) 'Datum mit Uhrzeit',\r\n",
                "    CAST(123 AS DECIMAL(10, 2)) AS 'Ganzzahl zu Dezimal',\r\n",
                "    CAST(123.45 AS INT) AS 'Dezimal zu Ganzzahl';"
            ],
            "metadata": {
                "language": "sql",
                "azdata_cell_guid": "bc032f5d-13c5-4740-a109-072646c79b90",
                "tags": []
            },
            "outputs": [
{
    "output_type": "display_data",
    "data": {
        "text/html": "(1 row affected)"
    },
    "metadata": {}
}, {
    "output_type": "display_data",
    "data": {
        "text/html": "Total execution time: 00:00:00.019"
    },
    "metadata": {}
}, {
    "output_type": "execute_result",
    "metadata": {},
    "execution_count": 2,
    "data": {
        "application/vnd.dataresource+json": {
            "schema": {
                "fields": [
                    {
                        "name": "Datum"
                    },
                    {
                        "name": "Datum mit Uhrzeit"
                    },
                    {
                        "name": "Ganzzahl zu Dezimal"
                    },
                    {
                        "name": "Dezimal zu Ganzzahl"
                    }
                ]
            },
            "data": [
                {
                    "Datum": "2025-01-14",
                    "Datum mit Uhrzeit": "2025-01-14 00:00:00.000",
                    "Ganzzahl zu Dezimal": "123.00",
                    "Dezimal zu Ganzzahl": "123"
                }
            ]
        },
        "text/html": [
            "<table>",
            "<tr><th>Datum</th><th>Datum mit Uhrzeit</th><th>Ganzzahl zu Dezimal</th><th>Dezimal zu Ganzzahl</th></tr>",
            "<tr><td>2025-01-14</td><td>2025-01-14 00:00:00.000</td><td>123.00</td><td>123</td></tr>",
            "</table>"
        ]
    }
}
],
            "execution_count": 2
        }
    ]
}