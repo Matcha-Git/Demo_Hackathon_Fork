{
    "metadata": {
        "kernelspec": {
            "name": "SQL",
            "display_name": "SQL",
            "language": "sql"
        },
        "language_info": {
            "name": "sql",
            "version": ""
        }
    },
    "nbformat_minor": 2,
    "nbformat": 4,
    "cells": [
        {
            "cell_type": "markdown",
            "source": [
                "# Zeichenfolgenfunktionen"
            ],
            "metadata": {
                "azdata_cell_guid": "c5513f46-1118-48b8-a7ae-9a9d1437173b"
            },
            "attachments": {}
        },
        {
            "cell_type": "code",
            "source": [
                "-- CHAR(): Ermittelt das Zeichen, das dem ASCII-Code entspricht.\r\n",
                "\r\n",
                "SELECT CHAR(70) AS Ergebnis; -- Gibt 'A' zurück"
            ],
            "metadata": {
                "azdata_cell_guid": "0696b804-4eb8-4d75-abbc-7d5e8e1e68a2",
                "language": "sql",
                "tags": []
            },
            "outputs": [],
            "execution_count": null
        },
        {
            "cell_type": "code",
            "source": [
                "-- LEFT() und RIGHT(): Gibt die ersten bzw. letzten N Zeichen einer Zeichenfolge zurück.\r\n",
                "\r\n",
                "SELECT LEFT('Hallo Welt', 5) AS ErsteZeichen, RIGHT('Hallo Welt', 4) AS LetzteZeichen;"
            ],
            "metadata": {
                "language": "sql",
                "azdata_cell_guid": "30f2d0e0-be67-4e84-b1f0-17222b626d68"
            },
            "outputs": [],
            "execution_count": null
        },
        {
            "cell_type": "code",
            "source": [
                "-- LEN(): Ermittelt die Länge einer Zeichenfolge (ohne Leerzeichen am Ende).\r\n",
                "\r\n",
                "SELECT LEN('Hallo Welt') AS Länge;"
            ],
            "metadata": {
                "language": "sql",
                "azdata_cell_guid": "f6fb8306-6dd4-443e-ba3a-ce78d6f147c4"
            },
            "outputs": [],
            "execution_count": null
        },
        {
            "cell_type": "code",
            "source": [
                "-- LOWER() und UPPER(): Konvertiert eine Zeichenfolge in Klein- oder Großbuchstaben.\r\n",
                "\r\n",
                "SELECT LOWER('Hallo Welt') AS Kleinbuchstaben, UPPER('Hallo Welt') AS Großbuchstaben;"
            ],
            "metadata": {
                "language": "sql",
                "azdata_cell_guid": "69419d94-7f52-46eb-9622-827a138778dd"
            },
            "outputs": [],
            "execution_count": null
        },
        {
            "cell_type": "code",
            "source": [
                "-- LTRIM(), RTRIM() und TRIM()\r\n",
                "SELECT \r\n",
                "    '   Hallo   ' AS Ungetrimmt,\r\n",
                "    LTRIM('   Hallo   ') AS OhneLeerzeichenLinks, \r\n",
                "    RTRIM('   Hallo   ') AS OhneLeerzeichenRechts,\r\n",
                "    TRIM('   Hallo   ') AS GanzOhneLeerzeichen;\r\n",
                ""
            ],
            "metadata": {
                "language": "sql",
                "azdata_cell_guid": "d3fb3a4a-9ed4-4abf-b422-38fdafc46c67",
                "tags": []
            },
            "outputs": [],
            "execution_count": null
        },
        {
            "cell_type": "code",
            "source": [
                "-- REPLICATE(): Wiederholung eines Ausdrucks\r\n",
                "\r\n",
                "SELECT REPLICATE('Hallo ', 3 ) AS Wiederholung;"
            ],
            "metadata": {
                "language": "sql",
                "azdata_cell_guid": "de7b4e54-c800-4da4-b1a0-dcd97e02fe08"
            },
            "outputs": [],
            "execution_count": null
        },
        {
            "cell_type": "code",
            "source": [
                "-- STR(): Liefert Zahl als Zeichenfolge zurück (expression float, length int, scale int)\r\n",
                "-- Hinweis: Ist eigentlich keine Zeichenfolgenfunktion, da sie Zahl als Input entgegen nimmt\r\n",
                "SELECT \r\n",
                "    STR(10.1234) AS 'Gerundeter String',\r\n",
                "    STR(10.1234, 5 , 2) AS 'String mit Length 5, Scale 2',\r\n",
                "    STR(10.1236, 6, 4) AS 'String mit Length 6, Scale 4 (abgeschnitten)'"
            ],
            "metadata": {
                "language": "sql",
                "azdata_cell_guid": "5e656da5-c0d7-4553-bfa3-0287c509b455",
                "tags": []
            },
            "outputs": [
                {
                    "output_type": "display_data",
                    "data": {
                        "text/html": "(1 row affected)"
                    },
                    "metadata": {}
                },
                {
                    "output_type": "display_data",
                    "data": {
                        "text/html": "Total execution time: 00:00:00.012"
                    },
                    "metadata": {}
                },
                {
                    "output_type": "execute_result",
                    "metadata": {},
                    "execution_count": 10,
                    "data": {
                        "application/vnd.dataresource+json": {
                            "schema": {
                                "fields": [
                                    {
                                        "name": "Gerundeter String"
                                    },
                                    {
                                        "name": "String mit Length 5, Scale 2"
                                    },
                                    {
                                        "name": "String mit Length 6, Scale 4 (abgeschnitten)"
                                    }
                                ]
                            },
                            "data": [
                                {
                                    "Gerundeter String": "        10",
                                    "String mit Length 5, Scale 2": "10.12",
                                    "String mit Length 6, Scale 4 (abgeschnitten)": "10.124"
                                }
                            ]
                        },
                        "text/html": [
                            "<table>",
                            "<tr><th>Gerundeter String</th><th>String mit Length 5, Scale 2</th><th>String mit Length 6, Scale 4 (abgeschnitten)</th></tr>",
                            "<tr><td>        10</td><td>10.12</td><td>10.124</td></tr>",
                            "</table>"
                        ]
                    }
                }
            ],
            "execution_count": 10
        },
        {
            "cell_type": "code",
            "source": [
                "-- SUBSTRING(): Extrahiert eine Teilzeichenfolge basierend auf Startposition und Länge.\r\n",
                "\r\n",
                "SELECT SUBSTRING('Hallo Welt', 7, 4) AS Teil;"
            ],
            "metadata": {
                "language": "sql",
                "azdata_cell_guid": "60c3f7d5-4d34-41b9-bbfd-a60ff554a50a"
            },
            "outputs": [
                {
                    "output_type": "display_data",
                    "data": {
                        "text/html": "(1 row affected)"
                    },
                    "metadata": {}
                },
                {
                    "output_type": "display_data",
                    "data": {
                        "text/html": "Total execution time: 00:00:00.013"
                    },
                    "metadata": {}
                },
                {
                    "output_type": "execute_result",
                    "metadata": {},
                    "execution_count": 11,
                    "data": {
                        "application/vnd.dataresource+json": {
                            "schema": {
                                "fields": [
                                    {
                                        "name": "Teil"
                                    }
                                ]
                            },
                            "data": [
                                {
                                    "Teil": "Welt"
                                }
                            ]
                        },
                        "text/html": [
                            "<table>",
                            "<tr><th>Teil</th></tr>",
                            "<tr><td>Welt</td></tr>",
                            "</table>"
                        ]
                    }
                }
            ],
            "execution_count": 11
        },
        {
            "cell_type": "code",
            "source": [
                "-- CHARINDEX(): Gibt die Position einer Zeichenfolge innerhalb einer anderen zurück.\r\n",
                "\r\n",
                "SELECT CHARINDEX('Welt', 'Hallo Welt') AS Position;\r\n",
                ""
            ],
            "metadata": {
                "azdata_cell_guid": "7e2d4222-53b4-4746-a348-f053d3a8d011",
                "language": "sql",
                "tags": []
            },
            "outputs": [
                {
                    "output_type": "display_data",
                    "data": {
                        "text/html": "(1 row affected)"
                    },
                    "metadata": {}
                },
                {
                    "output_type": "display_data",
                    "data": {
                        "text/html": "Total execution time: 00:00:00.004"
                    },
                    "metadata": {}
                },
                {
                    "output_type": "execute_result",
                    "metadata": {},
                    "execution_count": 12,
                    "data": {
                        "application/vnd.dataresource+json": {
                            "schema": {
                                "fields": [
                                    {
                                        "name": "Position"
                                    }
                                ]
                            },
                            "data": [
                                {
                                    "Position": "7"
                                }
                            ]
                        },
                        "text/html": [
                            "<table>",
                            "<tr><th>Position</th></tr>",
                            "<tr><td>7</td></tr>",
                            "</table>"
                        ]
                    }
                }
            ],
            "execution_count": 12
        },
        {
            "cell_type": "code",
            "source": [
                "-- CONCAT(): Verknüpfung von Zeichenfolgen.\r\n",
                "\r\n",
                "SELECT CONCAT('Hallo', ' ', 'Welt') AS Verbunden;\r\n",
                ""
            ],
            "metadata": {
                "language": "sql",
                "azdata_cell_guid": "ce56b398-4ba7-4f0b-9dfd-9d7e384aab34"
            },
            "outputs": [
{
    "output_type": "display_data",
    "data": {
        "text/html": "(1 row affected)"
    },
    "metadata": {}
}, {
    "output_type": "display_data",
    "data": {
        "text/html": "Total execution time: 00:00:00.002"
    },
    "metadata": {}
}, {
    "output_type": "execute_result",
    "metadata": {},
    "execution_count": 14,
    "data": {
        "application/vnd.dataresource+json": {
            "schema": {
                "fields": [
                    {
                        "name": "Verbunden"
                    }
                ]
            },
            "data": [
                {
                    "Verbunden": "Hallo Welt"
                }
            ]
        },
        "text/html": [
            "<table>",
            "<tr><th>Verbunden</th></tr>",
            "<tr><td>Hallo Welt</td></tr>",
            "</table>"
        ]
    }
}
],
            "execution_count": 14
        }
    ]
}