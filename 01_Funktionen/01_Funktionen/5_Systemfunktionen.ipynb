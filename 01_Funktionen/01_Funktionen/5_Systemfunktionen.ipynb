{
    "metadata": {
        "kernelspec": {
            "name": "SQL",
            "display_name": "SQL",
            "language": "sql"
        },
        "language_info": {
            "name": "sql",
            "version": ""
        }
    },
    "nbformat_minor": 2,
    "nbformat": 4,
    "cells": [
        {
            "cell_type": "markdown",
            "source": [
                "# Systemfunktionen"
            ],
            "metadata": {
                "language": "sql",
                "azdata_cell_guid": "d8b1d7dd-8402-492a-80c5-643e1f3d0565"
            },
            "attachments": {}
        },
        {
            "cell_type": "code",
            "source": [
                "-- CURRENT_USER: Gibt den Namen des aktuellen Benutzers zurück\r\n",
                "SELECT CURRENT_USER AS 'Aktueller Benutzer';"
            ],
            "metadata": {
                "azdata_cell_guid": "9c165463-3ae5-431f-8a9a-76823d503ae4",
                "language": "sql"
            },
            "outputs": [
                {
                    "output_type": "display_data",
                    "data": {
                        "text/html": "(1 row affected)"
                    },
                    "metadata": {}
                },
                {
                    "output_type": "display_data",
                    "data": {
                        "text/html": "Total execution time: 00:00:00.010"
                    },
                    "metadata": {}
                },
                {
                    "output_type": "execute_result",
                    "metadata": {},
                    "execution_count": 1,
                    "data": {
                        "application/vnd.dataresource+json": {
                            "schema": {
                                "fields": [
                                    {
                                        "name": "Aktueller Benutzer"
                                    }
                                ]
                            },
                            "data": [
                                {
                                    "Aktueller Benutzer": "dbo"
                                }
                            ]
                        },
                        "text/html": [
                            "<table>",
                            "<tr><th>Aktueller Benutzer</th></tr>",
                            "<tr><td>dbo</td></tr>",
                            "</table>"
                        ]
                    }
                }
            ],
            "execution_count": 1
        },
        {
            "cell_type": "code",
            "source": [
                "-- HOST_NAME(): Gibt den Namen des Computers zurück, der die Verbindung zum Server herstellt\r\n",
                "SELECT HOST_NAME() AS 'Computername';"
            ],
            "metadata": {
                "language": "sql",
                "azdata_cell_guid": "8ae894a7-b7ee-4b93-8693-e20fd275c868"
            },
            "outputs": [
                {
                    "output_type": "display_data",
                    "data": {
                        "text/html": "(1 row affected)"
                    },
                    "metadata": {}
                },
                {
                    "output_type": "display_data",
                    "data": {
                        "text/html": "Total execution time: 00:00:00.015"
                    },
                    "metadata": {}
                },
                {
                    "output_type": "execute_result",
                    "metadata": {},
                    "execution_count": 2,
                    "data": {
                        "application/vnd.dataresource+json": {
                            "schema": {
                                "fields": [
                                    {
                                        "name": "Computername"
                                    }
                                ]
                            },
                            "data": [
                                {
                                    "Computername": "ICTNB015"
                                }
                            ]
                        },
                        "text/html": [
                            "<table>",
                            "<tr><th>Computername</th></tr>",
                            "<tr><td>ICTNB015</td></tr>",
                            "</table>"
                        ]
                    }
                }
            ],
            "execution_count": 2
        },
        {
            "cell_type": "markdown",
            "source": [
                "<mark>Wichtig:</mark>"
            ],
            "metadata": {
                "language": "sql",
                "azdata_cell_guid": "1f3784f8-41c9-4b08-ae02-e81e671c06bb"
            },
            "attachments": {}
        },
        {
            "cell_type": "code",
            "source": [
                "-- ISNULL(): Gibt einen Ersatzwert zurück, wenn der Ausdruck NULL ist\r\n",
                "SELECT \r\n",
                "    ISNULL(NULL, 'Standardwert') AS 'Ersatz für NULL',\r\n",
                "    ISNULL('Ich bin ein Wert', 'Standardwert') AS 'Kein Ersatz für NULL';"
            ],
            "metadata": {
                "language": "sql",
                "azdata_cell_guid": "669251eb-bd3b-48f7-a059-22c3db6a93fd",
                "tags": []
            },
            "outputs": [
                {
                    "output_type": "display_data",
                    "data": {
                        "text/html": "(1 row affected)"
                    },
                    "metadata": {}
                },
                {
                    "output_type": "display_data",
                    "data": {
                        "text/html": "Total execution time: 00:00:00.010"
                    },
                    "metadata": {}
                },
                {
                    "output_type": "execute_result",
                    "metadata": {},
                    "execution_count": 3,
                    "data": {
                        "application/vnd.dataresource+json": {
                            "schema": {
                                "fields": [
                                    {
                                        "name": "Ersatz für NULL"
                                    },
                                    {
                                        "name": "Kein Ersatz für NULL"
                                    }
                                ]
                            },
                            "data": [
                                {
                                    "Ersatz für NULL": "Standardwert",
                                    "Kein Ersatz für NULL": "Ich bin ein Wert"
                                }
                            ]
                        },
                        "text/html": [
                            "<table>",
                            "<tr><th>Ersatz für NULL</th><th>Kein Ersatz für NULL</th></tr>",
                            "<tr><td>Standardwert</td><td>Ich bin ein Wert</td></tr>",
                            "</table>"
                        ]
                    }
                }
            ],
            "execution_count": 3
        },
        {
            "cell_type": "code",
            "source": [
                "-- Beispiel für ISNULL()\r\n",
                "USE WideWorldImporters;\r\n",
                "SELECT TOP 3 CustomerName, CreditLimit FROM Sales.Customers;\r\n",
                "\r\n",
                "SELECT TOP 3 CustomerName, ISNULL(CreditLimit, 1000) AS 'CreditLimit' FROM Sales.Customers;"
            ],
            "metadata": {
                "language": "sql",
                "azdata_cell_guid": "54d0ee90-3ede-425b-bf96-b58ae41ecd74"
            },
            "outputs": [
                {
                    "output_type": "display_data",
                    "data": {
                        "text/html": "(3 rows affected)"
                    },
                    "metadata": {}
                },
                {
                    "output_type": "display_data",
                    "data": {
                        "text/html": "(3 rows affected)"
                    },
                    "metadata": {}
                },
                {
                    "output_type": "display_data",
                    "data": {
                        "text/html": "Total execution time: 00:00:00.030"
                    },
                    "metadata": {}
                },
                {
                    "output_type": "execute_result",
                    "metadata": {},
                    "execution_count": 5,
                    "data": {
                        "application/vnd.dataresource+json": {
                            "schema": {
                                "fields": [
                                    {
                                        "name": "CustomerName"
                                    },
                                    {
                                        "name": "CreditLimit"
                                    }
                                ]
                            },
                            "data": [
                                {
                                    "CustomerName": "Tailspin Toys (Head Office)",
                                    "CreditLimit": "NULL"
                                },
                                {
                                    "CustomerName": "Tailspin Toys (Sylvanite, MT)",
                                    "CreditLimit": "NULL"
                                },
                                {
                                    "CustomerName": "Tailspin Toys (Peeples Valley, AZ)",
                                    "CreditLimit": "NULL"
                                }
                            ]
                        },
                        "text/html": [
                            "<table>",
                            "<tr><th>CustomerName</th><th>CreditLimit</th></tr>",
                            "<tr><td>Tailspin Toys (Head Office)</td><td>NULL</td></tr>",
                            "<tr><td>Tailspin Toys (Sylvanite, MT)</td><td>NULL</td></tr>",
                            "<tr><td>Tailspin Toys (Peeples Valley, AZ)</td><td>NULL</td></tr>",
                            "</table>"
                        ]
                    }
                },
                {
                    "output_type": "execute_result",
                    "metadata": {},
                    "execution_count": 5,
                    "data": {
                        "application/vnd.dataresource+json": {
                            "schema": {
                                "fields": [
                                    {
                                        "name": "CustomerName"
                                    },
                                    {
                                        "name": "CreditLimit"
                                    }
                                ]
                            },
                            "data": [
                                {
                                    "CustomerName": "Tailspin Toys (Head Office)",
                                    "CreditLimit": "1000.00"
                                },
                                {
                                    "CustomerName": "Tailspin Toys (Sylvanite, MT)",
                                    "CreditLimit": "1000.00"
                                },
                                {
                                    "CustomerName": "Tailspin Toys (Peeples Valley, AZ)",
                                    "CreditLimit": "1000.00"
                                }
                            ]
                        },
                        "text/html": [
                            "<table>",
                            "<tr><th>CustomerName</th><th>CreditLimit</th></tr>",
                            "<tr><td>Tailspin Toys (Head Office)</td><td>1000.00</td></tr>",
                            "<tr><td>Tailspin Toys (Sylvanite, MT)</td><td>1000.00</td></tr>",
                            "<tr><td>Tailspin Toys (Peeples Valley, AZ)</td><td>1000.00</td></tr>",
                            "</table>"
                        ]
                    }
                }
            ],
            "execution_count": 5
        },
        {
            "cell_type": "code",
            "source": [
                "-- ISNUMERIC(): Überprüft, ob ein Ausdruck ein numerischer Wert ist\r\n",
                "SELECT ISNUMERIC('123.45') AS 'Ist numerisch?',\r\n",
                "       ISNUMERIC('ABC') AS 'Ist kein numerischer Wert';"
            ],
            "metadata": {
                "language": "sql",
                "azdata_cell_guid": "c4671df7-ecf4-4148-88ce-8bb6a3aca459"
            },
            "outputs": [
                {
                    "output_type": "display_data",
                    "data": {
                        "text/html": "(1 row affected)"
                    },
                    "metadata": {}
                },
                {
                    "output_type": "display_data",
                    "data": {
                        "text/html": "Total execution time: 00:00:00.002"
                    },
                    "metadata": {}
                },
                {
                    "output_type": "execute_result",
                    "metadata": {},
                    "execution_count": 6,
                    "data": {
                        "application/vnd.dataresource+json": {
                            "schema": {
                                "fields": [
                                    {
                                        "name": "Ist numerisch?"
                                    },
                                    {
                                        "name": "Ist kein numerischer Wert"
                                    }
                                ]
                            },
                            "data": [
                                {
                                    "Ist numerisch?": "1",
                                    "Ist kein numerischer Wert": "0"
                                }
                            ]
                        },
                        "text/html": [
                            "<table>",
                            "<tr><th>Ist numerisch?</th><th>Ist kein numerischer Wert</th></tr>",
                            "<tr><td>1</td><td>0</td></tr>",
                            "</table>"
                        ]
                    }
                }
            ],
            "execution_count": 6
        },
        {
            "cell_type": "code",
            "source": [
                "-- NEWID(): Gibt einen neuen eindeutigen Bezeichner (GUID) zurück\r\n",
                "SELECT NEWID() AS 'Eindeutiger Bezeichner';"
            ],
            "metadata": {
                "language": "sql",
                "azdata_cell_guid": "303f848c-9b8e-40aa-b803-61bb0c7d95b0"
            },
            "outputs": [
{
    "output_type": "display_data",
    "data": {
        "text/html": "(1 row affected)"
    },
    "metadata": {}
}, {
    "output_type": "display_data",
    "data": {
        "text/html": "Total execution time: 00:00:00.009"
    },
    "metadata": {}
}, {
    "output_type": "execute_result",
    "metadata": {},
    "execution_count": 7,
    "data": {
        "application/vnd.dataresource+json": {
            "schema": {
                "fields": [
                    {
                        "name": "Eindeutiger Bezeichner"
                    }
                ]
            },
            "data": [
                {
                    "Eindeutiger Bezeichner": "a8649037-6fbf-45a4-a16b-c84c17f72d6e"
                }
            ]
        },
        "text/html": [
            "<table>",
            "<tr><th>Eindeutiger Bezeichner</th></tr>",
            "<tr><td>a8649037-6fbf-45a4-a16b-c84c17f72d6e</td></tr>",
            "</table>"
        ]
    }
}
],
            "execution_count": 7
        }
    ]
}