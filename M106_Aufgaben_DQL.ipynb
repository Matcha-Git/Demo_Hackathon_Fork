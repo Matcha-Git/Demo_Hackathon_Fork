{
    "metadata": {
        "kernelspec": {
            "name": "SQL",
            "display_name": "SQL",
            "language": "sql"
        },
        "language_info": {
            "name": "sql",
            "version": ""
        }
    },
    "nbformat_minor": 2,
    "nbformat": 4,
    "cells": [
        {
            "cell_type": "markdown",
            "source": [
                "# Übungsaufgaben DQL\n",
                "\n",
                "Der folgende Block enthält Übungsaufgaben zu den DQL-Kapiteln."
            ],
            "metadata": {
                "azdata_cell_guid": "6dbd59fa-8f35-46e1-a2e5-30a7c5721912"
            },
            "attachments": {}
        },
        {
            "cell_type": "markdown",
            "source": [
                "## SELECT\n",
                "\n",
                "Löse diese Aufgaben, nachdem du den SELECT-Block bearbeitet hast."
            ],
            "metadata": {
                "azdata_cell_guid": "cf83f66c-31a4-4056-856e-bfca319b918d"
            },
            "attachments": {}
        },
        {
            "cell_type": "markdown",
            "source": [
                "**1.1** Zeige alle verfügbaren (aktiven) Kunden an."
            ],
            "metadata": {
                "azdata_cell_guid": "e377c30b-ef68-4282-b996-32daac1138b1"
            },
            "attachments": {}
        },
        {
            "cell_type": "code",
            "source": [
                "USE WideWorldImporters;\r\n",
                "SELECT * FROM sales.Customers;"
            ],
            "metadata": {
                "azdata_cell_guid": "556582b6-63df-4fb7-8281-73844dd1a138",
                "language": "sql",
                "tags": []
            },
            "outputs": [],
            "execution_count": null
        },
        {
            "cell_type": "markdown",
            "source": [
                "**1.2** Zeige die Vor- und Nachnamen aller Benutzer an"
            ],
            "metadata": {
                "azdata_cell_guid": "91239e3a-4dd3-4959-b57c-92c9f5df1ebd"
            },
            "attachments": {}
        },
        {
            "cell_type": "code",
            "source": [
                "USE WideWorldImporters;\r\n",
                "SELECT FullName FROM Application.People;"
            ],
            "metadata": {
                "azdata_cell_guid": "3bff08cb-08f4-4f59-bafd-1301e48c3845",
                "language": "sql",
                "tags": []
            },
            "outputs": [],
            "execution_count": null
        },
        {
            "cell_type": "markdown",
            "source": [
                "**1.3** Welche Liefermethoden kennt WWI?"
            ],
            "metadata": {
                "azdata_cell_guid": "4e19f94a-5cb8-4710-bb54-ab311266cb7c"
            },
            "attachments": {}
        },
        {
            "cell_type": "code",
            "source": [
                "USE WideWorldImporters;\r\n",
                "SELECT DeliveryMethodName FROM Application.DeliveryMethods;"
            ],
            "metadata": {
                "azdata_cell_guid": "c3acb944-3009-438d-b272-afe8783174bc",
                "language": "sql",
                "tags": []
            },
            "outputs": [],
            "execution_count": null
        },
        {
            "cell_type": "markdown",
            "source": [
                "**1.4** Erstelle eine Abfrage auf die Tabelle _Sales.Customers,_ welche dir folgende Felder liefert: CustomerId, CustomerName, Address (Bestehend als konkatiniertes Feld aus den Feldern PostalAddressLine1, PostalAddressLine2 und PostalPostalCode)."
            ],
            "metadata": {
                "azdata_cell_guid": "a7318acb-351f-403b-98fb-a653b37974b3"
            },
            "attachments": {}
        },
        {
            "cell_type": "code",
            "source": [
                "USE WideWorldImporters;\r\n",
                "SELECT CustomerID, CustomerName,\r\n",
                "PostalAddressLine1 + ' ' + PostalAddressLine2 + ' ' + PostalPostalCode\r\n",
                "AS 'Address'\r\n",
                "FROM Sales.Customers;"
            ],
            "metadata": {
                "azdata_cell_guid": "cb2d6c7d-af65-44c7-bffe-9fda8576bad5",
                "language": "sql",
                "tags": []
            },
            "outputs": [],
            "execution_count": null
        },
        {
            "cell_type": "markdown",
            "source": [
                "## WHERE-Bedingungen\n",
                "\n",
                "Führe diese Aufgaben aus, nachdem du den Block \"WHERE-Bedingungen\" bearbeitet hast."
            ],
            "metadata": {
                "azdata_cell_guid": "1f6dbeb2-9544-4854-b59b-0602f665edec"
            },
            "attachments": {}
        },
        {
            "cell_type": "markdown",
            "source": [
                "**2.1** Wie viele Mitarbeiter zählt WWI?"
            ],
            "metadata": {
                "azdata_cell_guid": "620dfdb3-3fe6-432c-80df-8eadf3295be9"
            },
            "attachments": {}
        },
        {
            "cell_type": "code",
            "source": [
                "USE WideWorldImporters;\r\n",
                "SELECT COUNT(*) AS 'Anzahl Mitarbeiter' FROM Application.People\r\n",
                "WHERE IsEmployee = 1;"
            ],
            "metadata": {
                "azdata_cell_guid": "e0e9139a-dcf9-4968-8945-89baf99e380f",
                "language": "sql",
                "tags": []
            },
            "outputs": [],
            "execution_count": null
        },
        {
            "cell_type": "markdown",
            "source": [
                "**2.2** Wie viele Mitarbeiter sind Verkäufer?"
            ],
            "metadata": {
                "azdata_cell_guid": "2de8de94-59e4-4bd3-bea7-d1a5cd689cd9"
            },
            "attachments": {}
        },
        {
            "cell_type": "code",
            "source": [
                "USE WideWorldImporters;\r\n",
                "SELECT COUNT(*) AS 'Anzahl Verkäufer' FROM Application.People\r\n",
                "WHERE IsSalesperson = 1;"
            ],
            "metadata": {
                "azdata_cell_guid": "10f66950-6798-4fb4-a7ff-261e7110b570",
                "language": "sql",
                "tags": []
            },
            "outputs": [],
            "execution_count": null
        },
        {
            "cell_type": "markdown",
            "source": [
                "**2.3**: Gebe alle Städte der Städte-Tabelle aus, welche mehr als 10'000 Einwohner haben."
            ],
            "metadata": {
                "azdata_cell_guid": "985f5260-c122-4e05-af8a-25ea03ba1dc6"
            },
            "attachments": {}
        },
        {
            "cell_type": "code",
            "source": [
                "USE WideWorldImporters;\r\n",
                "SELECT DISTINCT CityName, LatestRecordedPopulation \r\n",
                "FROM Application.Cities\r\n",
                "WHERE LatestRecordedPopulation > 10000;"
            ],
            "metadata": {
                "azdata_cell_guid": "71d56dbb-2e93-433d-ac44-8a335bbc2ddd",
                "language": "sql",
                "tags": []
            },
            "outputs": [],
            "execution_count": null
        },
        {
            "cell_type": "markdown",
            "source": [
                "**2.4** Liste alle Städte auf, welche mit \"Ab\" beginnen."
            ],
            "metadata": {
                "azdata_cell_guid": "61861da5-6ebb-41db-8b8e-accd9b8088e5"
            },
            "attachments": {}
        },
        {
            "cell_type": "code",
            "source": [
                "USE WideWorldImporters;\r\n",
                "SELECT DISTINCT CityName\r\n",
                "FROM Application.Cities\r\n",
                "WHERE CityName LIKE 'Ab%'"
            ],
            "metadata": {
                "azdata_cell_guid": "a060f64e-0225-417d-9932-decd3567388d",
                "language": "sql",
                "tags": []
            },
            "outputs": [],
            "execution_count": null
        },
        {
            "cell_type": "markdown",
            "source": [
                "## JOIN\n",
                "\n",
                "Führe diese Aufgaben aus, nachdem du den JOIN-Block bearbeitet hast."
            ],
            "metadata": {
                "azdata_cell_guid": "80311fa8-543a-4be7-9904-c36c441f3c35"
            },
            "attachments": {}
        },
        {
            "cell_type": "markdown",
            "source": [
                "**3.1** Erstelle eine Abfrage, welche die Tabelle _Customers_ mit der Tabelle _Orders_ vereint. Es sollen nur Kunden ausgegeben werden, welche etwas bestellt haben. Die Abfrage soll mindestens die Felder _CustomerId_ und _OrderId_ enthalten."
            ],
            "metadata": {
                "azdata_cell_guid": "bcf4e102-b824-4ae5-98ea-4cf6ca988dfb"
            },
            "attachments": {}
        },
        {
            "cell_type": "code",
            "source": [
                "-- Hinweis: INNER JOIN ist default und entspricht JOIN\r\n",
                "-- Durch INNER JOIN werden nur Kunden ausgegeben, die was bestellt haben (Schnittmenge)\r\n",
                "USE WideWorldImporters;\r\n",
                "SELECT c.CustomerID, c.CustomerName, o.OrderID \r\n",
                "FROM Sales.Customers AS c\r\n",
                "JOIN Sales.Orders AS o\r\n",
                "ON c.CustomerID = o.CustomerID;\r\n",
                ""
            ],
            "metadata": {
                "azdata_cell_guid": "d6c71696-1ec1-4bb6-9aca-b0106441793c",
                "language": "sql",
                "tags": []
            },
            "outputs": [],
            "execution_count": null
        },
        {
            "cell_type": "markdown",
            "source": [
                "**3.2** Welche Kunden sind in der Datenbank erfasst, welche über keine Bestellungen verfügen? Liste explizit die Kunden auf, welche über keine Bestellung verfügen."
            ],
            "metadata": {
                "azdata_cell_guid": "22f43af3-6b9a-4ccb-a2b4-85d9e17101de"
            },
            "attachments": {}
        },
        {
            "cell_type": "code",
            "source": [
                "USE WideWorldImporters;\r\n",
                "\r\n",
                "-- mit Mengenoperation EXCEPT\r\n",
                "USE WideWorldImporters;\r\n",
                "SELECT CustomerID AS 'Kunden IDs ohne Bestellung' FROM Sales.customers\r\n",
                "EXCEPT\r\n",
                "SELECT CustomerID FROM Sales.orders;\r\n",
                "\r\n",
                "-- oder mit LEFT JOIN\r\n",
                "SELECT DISTINCT c.CustomerID AS 'Kunden IDs ohne Bestellung' -- in der Lösung fehlt DISTINCT\r\n",
                "FROM Sales.Customers c LEFT JOIN Sales.Orders o ON c.CustomerID = o.CustomerID\r\n",
                "WHERE o.CustomerID IS NULL;\r\n",
                "\r\n",
                "-- oder mit Subquery\r\n",
                "SELECT c.customerid AS 'Kunden IDs ohne Bestellung'\r\n",
                "FROM Sales.customers c\r\n",
                "WHERE c.customerid NOT IN (SELECT DISTINCT customerid FROM Sales.Orders) -- schöner mit DISTINCT\r\n",
                ""
            ],
            "metadata": {
                "azdata_cell_guid": "5a4330c0-4b22-4309-b94c-56c4be31e04a",
                "language": "sql",
                "tags": []
            },
            "outputs": [],
            "execution_count": null
        },
        {
            "cell_type": "markdown",
            "source": [
                ""
            ],
            "metadata": {
                "language": "sql",
                "azdata_cell_guid": "c95bf142-064b-4b68-aa17-76c721a9cf4e"
            }
        },
        {
            "cell_type": "markdown",
            "source": [
                "**3.3** Gebe für jeden Kunden die dazugehörige Rechnungsadresse aus. (Tipp: Das Feld _BillToCustomerId_ zeigt dir, wer der Rechnungsempfänger ist)."
            ],
            "metadata": {
                "azdata_cell_guid": "3c736e4a-c217-4ef6-a12e-8c60de144adc"
            },
            "attachments": {}
        },
        {
            "cell_type": "code",
            "source": [
                "/*Hier sind die Lösungen falsch. Meiner Ansicht nach müsst die Frage\r\n",
                "zur Musterlösung so heissen:\r\n",
                "Gib alle Kunden inkl. Addresse aus, welche als Rechnungsempfänger erfasst sind.*/\r\n",
                "\r\n",
                "-- Richtig ist mit SELF JOIN\r\n",
                "USE WideWorldImporters;\r\n",
                "SELECT c.CustomerName 'Kunde', \r\n",
                "cb.CustomerName + ' ' + cb.DeliveryAddressLine1 + ' ' + cb.DeliveryAddressLine2\r\n",
                "+ ', ' + cb.PostalPostalCode + ' ' + ci.CityName 'Rechnungsadresse'\r\n",
                "FROM Sales.Customers c JOIN Sales.Customers cb\r\n",
                "ON c.BillToCustomerID = cb.CustomerID\r\n",
                "JOIN Application.Cities ci ON cb.PostalCityID = ci.CityID; -- das hier braucht es noch, um City-Name anzugeben"
            ],
            "metadata": {
                "azdata_cell_guid": "af45b9d1-8415-4c8f-8b61-fb5347688b1d",
                "language": "sql",
                "tags": []
            },
            "outputs": [],
            "execution_count": null
        },
        {
            "cell_type": "markdown",
            "source": [
                "## CASE\n",
                "\n",
                "Führe diese Aufgaben aus, nachdem du den CASE-Block bearbeitet hast."
            ],
            "metadata": {
                "azdata_cell_guid": "c6342a08-78c2-4621-9c33-ae28019f16ca"
            },
            "attachments": {}
        },
        {
            "cell_type": "markdown",
            "source": [
                "**4.1** Erstelle folgende Abfrage: Liste Personen auf, die entweder Mitarbeiter, Verkäufer oder Kunde sind. Das Resultat soll dabei folgende Felder enthalten: Vollständiger Name, Telefon-Nummer, Fax-Nummer, Rolle. In der Rolle sollen folgende Werte abgebildet werden: Mitarbeiter, wenn eine Peron ein Mitarbeiter ist, Verkäufer, wenn eine Person Verkäufer ist, Kunde, wenn die Person weder Verkäufer noch Mitarbeiter ist. Einträge ohne Telefon unx Fax-Nummer sollen herausgefiltert werden."
            ],
            "metadata": {
                "azdata_cell_guid": "c80780b3-fad7-47a3-9d13-e7fdbf3f8b15"
            },
            "attachments": {}
        },
        {
            "cell_type": "code",
            "source": [
                "USE WideWorldImporters;\r\n",
                "SELECT FullName, PhoneNumber, FaxNumber,\r\n",
                "CASE\r\n",
                "WHEN IsSystemUser = 1 AND IsEmployee = 1 AND isSalesperson =1 THEN 'USER / MITARBEITER / VERKÄUFER' \r\n",
                "WHEN IsSystemUser = 0 AND IsEmployee = 1 AND isSalesperson =1 THEN 'MITARBEITER / VERKÄUFER'\r\n",
                "WHEN IsSystemUser = 1 AND IsEmployee = 0 AND isSalesperson =1 THEN 'USER / VERKÄUFER'\r\n",
                "WHEN IsSystemUser = 1 AND IsEmployee = 1 AND isSalesperson =0 THEN 'USER / MITARBEITER'\r\n",
                "WHEN IsSystemUser = 1 AND IsEmployee = 0 AND isSalesperson =0 THEN 'USER' \r\n",
                "WHEN IsSystemUser = 0 AND IsEmployee = 0 AND isSalesperson =1 THEN 'VERKÄUFER' \r\n",
                "WHEN IsSystemUser = 0 AND IsEmployee = 1 AND isSalesperson =0 THEN 'MITARBEITER' \r\n",
                "ELSE 'KUNDE '\r\n",
                "END AS 'ROLLE'\r\n",
                "FROM Application.People\r\n",
                "WHERE PhoneNumber IS NOT NULL OR FaxNumber IS NOT NULL"
            ],
            "metadata": {
                "azdata_cell_guid": "9e7ab674-256e-4207-b2c8-8a470ca1f77f",
                "language": "sql",
                "tags": []
            },
            "outputs": [],
            "execution_count": null
        },
        {
            "cell_type": "markdown",
            "source": [
                "## Gruppierungen\n",
                "\n",
                "Führe diese Aufgaben aus, nachdem du den Gruppierungs-Block bearbeitet hast."
            ],
            "metadata": {
                "azdata_cell_guid": "5715e06a-8fb4-4b76-a64a-6f52c9f90847"
            },
            "attachments": {}
        },
        {
            "cell_type": "markdown",
            "source": [
                "**5.1** Finde die zehn teuersten Bestellungen, welche WWI entgegennehmen durfte"
            ],
            "metadata": {
                "azdata_cell_guid": "e86259c6-4714-41bd-bac7-dae803c7feb5"
            },
            "attachments": {}
        },
        {
            "cell_type": "code",
            "source": [
                "USE WideWorldImporters;\r\n",
                "SELECT TOP 10 ol.OrderID, SUM(ol.Quantity * ol.UnitPrice) 'Betrag' -- Rechnet für jede Bestellposition den Betrag aus und summiert alle Positionen zusammen\r\n",
                "FROM Sales.OrderLines ol\r\n",
                "GROUP BY ol.OrderID\r\n",
                "ORDER BY 'Betrag' DESC;\r\n",
                ""
            ],
            "metadata": {
                "azdata_cell_guid": "2b304af7-d127-4fec-b851-ef5f58ca9a5e",
                "language": "sql",
                "tags": []
            },
            "outputs": [],
            "execution_count": null
        },
        {
            "cell_type": "markdown",
            "source": [
                "**5.2** Zu welchen Kunden gehören die zehn teuersten Bestellungen?"
            ],
            "metadata": {
                "azdata_cell_guid": "6ee9c3b1-61f7-4399-b802-81a04b83d16c"
            },
            "attachments": {}
        },
        {
            "cell_type": "code",
            "source": [
                "USE WideWorldImporters;\r\n",
                "SELECT TOP(10) ol.OrderID, c.CustomerName, SUM(Quantity * UnitPrice) AS 'Betrag' \r\n",
                "FROM Sales.OrderLines AS ol\r\n",
                "JOIN Sales.Orders AS o ON ol.OrderID = o.OrderID\r\n",
                "JOIN Sales.Customers AS c ON o.CustomerID = c.CustomerID\r\n",
                "GROUP BY ol.OrderID, c.CustomerName\r\n",
                "ORDER BY 'Betrag' DESC;\r\n",
                "\r\n",
                "-- Oder Lösung mit Unterabfrage: Query von Aufgabe 5.1 als Unterabfrage verwenden und darauf JOIN machen\r\n",
                "-- Dieser Ansatz ist in Lösungen, ist jedoch viel komplexer. Besser meine Lösung oben verwenden\r\n",
                "SELECT o.OrderID, c.CustomerName, sub.Betrag\r\n",
                "FROM Sales.Customers c JOIN Sales.Orders o ON c.CustomerID = o.CustomerID\r\n",
                "JOIN\r\n",
                "(SELECT TOP 10 ol.OrderID, SUM(ol.Quantity * ol.UnitPrice) 'Betrag' -- Rechnet für jede Bestellposition den Betrag aus und summiert alle Positionen zusammen\r\n",
                "FROM Sales.OrderLines ol\r\n",
                "GROUP BY ol.OrderID\r\n",
                "ORDER BY 'Betrag' DESC) AS sub ON o.OrderID = sub.OrderID ORDER BY sub.Betrag DESC; \r\n",
                "\r\n",
                ""
            ],
            "metadata": {
                "azdata_cell_guid": "0cd367c8-4cb5-40a6-9372-f0e7575bda7e",
                "language": "sql",
                "tags": []
            },
            "outputs": [],
            "execution_count": null
        },
        {
            "cell_type": "markdown",
            "source": [
                "**5.3** Welches sind die zehn Umsatzstärksten Kunden von WWI?"
            ],
            "metadata": {
                "azdata_cell_guid": "1e337195-ccd3-4c2f-b030-1b89058aa237"
            },
            "attachments": {}
        },
        {
            "cell_type": "code",
            "source": [
                "USE WideWorldImporters;\r\n",
                "\r\n",
                "SELECT TOP 10 c.CustomerName, SUM(ol.Quantity * ol.UnitPrice) 'Total'\r\n",
                "FROM Sales.Customers c JOIN Sales.Orders o ON c.CustomerID = o.CustomerID\r\n",
                "JOIN Sales.OrderLines ol ON o.OrderID = ol.OrderID\r\n",
                "GROUP BY c.CustomerName\r\n",
                "ORDER BY 'Total' DESC;"
            ],
            "metadata": {
                "azdata_cell_guid": "2e665582-6a72-46c3-8127-c14887bbdea0",
                "language": "sql",
                "tags": []
            },
            "outputs": [],
            "execution_count": 12
        },
        {
            "cell_type": "markdown",
            "source": [
                "**5.4** Wie viele Provinzen haben die einzelnen hinterlegten Lieferländer von WWI? Gebe dazu die Anzahl Provinzen gruppiert nach Land aus."
            ],
            "metadata": {
                "azdata_cell_guid": "21a62d7b-a097-463a-a0e3-16c824943d55"
            },
            "attachments": {}
        },
        {
            "cell_type": "code",
            "source": [
                "USE WideWorldImporters;\r\n",
                "\r\n",
                "SELECT CountryName, COUNT(s.StateProvinceID) AS 'Anzahl Provinzen'\r\n",
                "FROM Application.Countries c JOIN Application.StateProvinces s\r\n",
                "ON c.CountryID = s.CountryID\r\n",
                "GROUP BY c.CountryName;\r\n",
                "\r\n",
                "-- Hinweis: Offenbar sind nur für USA Provinzen erfasst. Überprüfung mit LEFT JOIN"
            ],
            "metadata": {
                "azdata_cell_guid": "40681d2a-67f7-4e49-8906-76c16142da50",
                "language": "sql",
                "tags": []
            },
            "outputs": [],
            "execution_count": 13
        },
        {
            "cell_type": "markdown",
            "source": [
                "**5.5** Finde alle Bestellungen, welche mehr oder genau 5 Bestellpositionen haben."
            ],
            "metadata": {
                "azdata_cell_guid": "eebcf739-c603-4b62-a8a6-0e832f0726ac"
            },
            "attachments": {}
        },
        {
            "cell_type": "code",
            "source": [
                "USE WideWorldImporters;\r\n",
                "\r\n",
                "SELECT o.OrderID, COUNT(OrderLineID) 'Anzahl Bestellpositionen' \r\n",
                "FROM Sales.Orders o JOIN Sales.OrderLines ol\r\n",
                "ON o.OrderID = ol.OrderID\r\n",
                "GROUP BY o.OrderID\r\n",
                "HAVING COUNT(OrderLineID) >= 5;"
            ],
            "metadata": {
                "azdata_cell_guid": "eb1c8d97-2311-4fef-86b5-089f53149f22",
                "language": "sql",
                "tags": []
            },
            "outputs": [],
            "execution_count": 15
        },
        {
            "cell_type": "markdown",
            "source": [
                "## Unterabfragen\n",
                "\n",
                "Führe diese Aufgaben aus, nachdem du den Unterabfragen-Block bearbeitet hast."
            ],
            "metadata": {
                "azdata_cell_guid": "1baaee77-c58f-495a-ae05-0a2ea20a8f37"
            },
            "attachments": {}
        },
        {
            "cell_type": "markdown",
            "source": [
                "**6.1** Welche Kundenkategorien kannte WWI über die gesamte Laufbahn? Liste alle namentlich auf."
            ],
            "metadata": {
                "azdata_cell_guid": "de629a79-f465-467f-a256-f81723f7255e"
            },
            "attachments": {}
        },
        {
            "cell_type": "code",
            "source": [
                "-- Frage kann unterschiedlich verstanden werden\r\n",
                "\r\n",
                "-- 1) Welche Kundenkategorien gibt es schon seit Beginn und sind nicht terminiert?\r\n",
                "USE WideWorldImporters;\r\n",
                "\r\n",
                "SELECT cc.CustomerCategoryName FROM Sales.CustomerCategories cc\r\n",
                "WHERE cc.ValidFrom = (SELECT MIN(cc.ValidFrom) FROM Sales.CustomerCategories cc)\r\n",
                "AND cc.ValidTo = (SELECT MAX(cc.ValidTo) FROM Sales.CustomerCategories cc);\r\n",
                "\r\n",
                "-- 2a) Welche Kundenkategorien wurden von erfassten Kunden schon verwendet?\r\n",
                "SELECT CustomerCategoryName FROM Sales.CustomerCategories\r\n",
                "WHERE CustomerCategoryID IN (SELECT DISTINCT CustomerCategoryID FROM Sales.Customers)\r\n",
                "\r\n",
                "-- 2b) Dasselbe noch mit JOIN anstatt Unterabfrage\r\n",
                "SELECT DISTINCT cc.CustomerCategoryName\r\n",
                "FROM Sales.CustomerCategories cc RIGHT JOIN Sales.Customers c \r\n",
                "ON cc.CustomerCategoryID = c.CustomerCategoryID;"
            ],
            "metadata": {
                "azdata_cell_guid": "7aa221af-d640-4a6a-99dc-4dd31ada3528",
                "language": "sql",
                "tags": []
            },
            "outputs": [],
            "execution_count": null
        },
        {
            "cell_type": "markdown",
            "source": [
                "## Spezialaufgaben\n",
                "\n",
                "Führe die folgenden Aufgaben aus, nachdem du die anderen Blöcke fertig bearbeitet hast"
            ],
            "metadata": {
                "azdata_cell_guid": "5250baac-2483-4aac-9cf8-d4884f7d056c"
            },
            "attachments": {}
        },
        {
            "cell_type": "markdown",
            "source": [
                "**7.1** Erstelle eine Gesamtübersicht über die WWI für das Jahr 2013, die folgende Informationen enthält: Anzahl Kunden, Anzahl Bestellungen im Jahre 2013, Bestellvolumen Jan. - Mär. 2013, Bestellvolumen Mär. - Jun. 2013, Bestellvolumen Jul. - Sep. 2013, Bestellvolumen Okt - Dez. 2013."
            ],
            "metadata": {
                "azdata_cell_guid": "d48d50e8-26a2-47a6-b275-e1dd08111896"
            },
            "attachments": {}
        },
        {
            "cell_type": "code",
            "source": [
                "-- Deutlich schöner als in Lösung:\r\n",
                "\r\n",
                "USE WideWorldImporters;\r\n",
                "\r\n",
                "SELECT \r\n",
                "    (SELECT COUNT(CustomerID) FROM SALES.Customers) AS 'Anzahl Kunden',\r\n",
                "    (SELECT COUNT(OrderID) FROM SALES.Orders WHERE YEAR(OrderDate) = 2013) AS 'Anzahl Bestellungen im Jahre 2013',\r\n",
                "    (SELECT COUNT(OrderID) FROM SALES.Orders WHERE OrderDate BETWEEN '2013-01-01' AND '2013-03-31') AS 'Bestellvolumen Jan. - Mär. 2013',\r\n",
                "    (SELECT COUNT(OrderID) FROM SALES.Orders WHERE OrderDate BETWEEN '2013-04-01' AND '2013-06-30') AS 'Bestellvolumen April - Jun. 2013',\r\n",
                "    (SELECT COUNT(OrderID) FROM SALES.Orders WHERE OrderDate BETWEEN '2013-07-01' AND '2013-09-30') AS 'Bestellvolumen Jul. - Sep. 2013',\r\n",
                "    (SELECT COUNT(OrderID) FROM SALES.Orders WHERE OrderDate BETWEEN '2013-10-01' AND '2013-12-31') AS 'Bestellvolumen Okt - Dez. 2013';\r\n",
                ""
            ],
            "metadata": {
                "azdata_cell_guid": "640593a4-caf2-44e1-9262-fefaea8584d5",
                "language": "sql",
                "tags": []
            },
            "outputs": [],
            "execution_count": null
        },
        {
            "cell_type": "markdown",
            "source": [
                "**7.2** Ermittle das gesamte Bestellvolumen für die Jahre 2013 bis 2016. Dabei soll für jedes Jahr eine eigene Spalte verwendet werden."
            ],
            "metadata": {
                "azdata_cell_guid": "139d5c95-c1b2-4909-9850-4f3798e5cf27"
            },
            "attachments": {}
        },
        {
            "cell_type": "code",
            "source": [
                "USE WideWorldImporters;\r\n",
                "\r\n",
                "SELECT \r\n",
                "    SUM(CASE WHEN YEAR(o.OrderDate) = 2013 THEN ol.Quantity * ol.UnitPrice ELSE 0 END) AS UMSATZ_2013,\r\n",
                "    SUM(CASE WHEN YEAR(o.OrderDate) = 2014 THEN ol.Quantity * ol.UnitPrice ELSE 0 END) AS UMSATZ_2014,\r\n",
                "    SUM(CASE WHEN YEAR(o.OrderDate) = 2015 THEN ol.Quantity * ol.UnitPrice ELSE 0 END) AS UMSATZ_2015,\r\n",
                "    SUM(CASE WHEN YEAR(o.OrderDate) = 2016 THEN ol.Quantity * ol.UnitPrice ELSE 0 END) AS UMSATZ_2016\r\n",
                "FROM \r\n",
                "    Sales.OrderLines ol\r\n",
                "JOIN \r\n",
                "    Sales.Orders o ON ol.OrderID = o.OrderID;\r\n",
                ""
            ],
            "metadata": {
                "azdata_cell_guid": "914f0be6-5880-461f-8ffc-864d9066120a",
                "language": "sql",
                "tags": []
            },
            "outputs": [],
            "execution_count": null
        }
    ]
}